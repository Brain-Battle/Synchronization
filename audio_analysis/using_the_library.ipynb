{
 "cells": [
  {
   "cell_type": "code",
   "execution_count": 1,
   "metadata": {},
   "outputs": [],
   "source": [
    "# import the library\n",
    "from analyzer import Analyzer\n",
    "from moviepy import editor"
   ]
  },
  {
   "cell_type": "code",
   "execution_count": 2,
   "metadata": {},
   "outputs": [],
   "source": [
    "# Load the videos.\n",
    "video1 = editor.VideoFileClip(\"00002.MTS\")\n",
    "video2 = editor.VideoFileClip(\"GX011921.MP4\")"
   ]
  },
  {
   "cell_type": "code",
   "execution_count": 3,
   "metadata": {},
   "outputs": [],
   "source": [
    "# Extract audio data.\n",
    "# This might take a while.\n",
    "audio_array1 = Analyzer.extract_audio(video1)\n",
    "audio_array2 = Analyzer.extract_audio(video2)"
   ]
  },
  {
   "cell_type": "code",
   "execution_count": 4,
   "metadata": {},
   "outputs": [
    {
     "name": "stdout",
     "output_type": "stream",
     "text": [
      "11770731\n",
      "11770731\n",
      "The second video's delay is: -10.894421768707483\n"
     ]
    }
   ],
   "source": [
    "# Calculate time delay\n",
    "time_delay = Analyzer.calculate_time_delay(audio_array1, audio_array2)\n",
    "print(f\"The second video's delay is: {time_delay}\")"
   ]
  },
  {
   "cell_type": "code",
   "execution_count": 5,
   "metadata": {},
   "outputs": [],
   "source": [
    "# What to do for four videos?\n",
    "# Find the longest video out of four.\n",
    "# Extract audio for all of them.\n",
    "# Compare each of three videos to the longest video."
   ]
  }
 ],
 "metadata": {
  "kernelspec": {
   "display_name": "Python 3",
   "language": "python",
   "name": "python3"
  },
  "language_info": {
   "codemirror_mode": {
    "name": "ipython",
    "version": 3
   },
   "file_extension": ".py",
   "mimetype": "text/x-python",
   "name": "python",
   "nbconvert_exporter": "python",
   "pygments_lexer": "ipython3",
   "version": "3.11.2"
  }
 },
 "nbformat": 4,
 "nbformat_minor": 2
}

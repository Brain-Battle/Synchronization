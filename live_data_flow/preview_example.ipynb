{
 "cells": [
  {
   "cell_type": "markdown",
   "metadata": {},
   "source": [
    "This is an example of how to preview videos using MoviePy"
   ]
  },
  {
   "cell_type": "code",
   "execution_count": 1,
   "metadata": {},
   "outputs": [],
   "source": [
    "# We will utilize the small editor library we made\n",
    "# You can find the same library in the editor.py inside VideoMerger folder.\n",
    "# In that case you should do\n",
    "# from VideoMerger.editor import VideoMerger\n",
    "\n",
    "from sync_utils.editor import VideoMerger"
   ]
  },
  {
   "cell_type": "code",
   "execution_count": null,
   "metadata": {},
   "outputs": [],
   "source": [
    "# Create instance of VideoMerger\n",
    "\n",
    "merger = VideoMerger()\n",
    "\n",
    "# Add videos to it.\n",
    "merger.video_input(0, 0, r\"C:\\Users\\enesy\\Videos\\xd\\1.mp4\")\n",
    "merger.video_input(0, 1, r\"C:\\Users\\enesy\\Videos\\xd\\2.MOV\")\n",
    "merger.video_input(1, 0, r\"C:\\Users\\enesy\\Videos\\xd\\3.mp4\")\n",
    "merger.video_input(1, 1, r\"C:\\Users\\enesy\\Videos\\xd\\4.mp4\")"
   ]
  },
  {
   "cell_type": "code",
   "execution_count": null,
   "metadata": {},
   "outputs": [],
   "source": [
    "# Synchronize!\n",
    "merger.synchronize()"
   ]
  },
  {
   "cell_type": "code",
   "execution_count": null,
   "metadata": {},
   "outputs": [],
   "source": [
    "# Preview\n",
    "merger.preview()"
   ]
  }
 ],
 "metadata": {
  "kernelspec": {
   "display_name": "Python 3",
   "language": "python",
   "name": "python3"
  },
  "language_info": {
   "codemirror_mode": {
    "name": "ipython",
    "version": 3
   },
   "file_extension": ".py",
   "mimetype": "text/x-python",
   "name": "python",
   "nbconvert_exporter": "python",
   "pygments_lexer": "ipython3",
   "version": "3.11.2"
  }
 },
 "nbformat": 4,
 "nbformat_minor": 2
}

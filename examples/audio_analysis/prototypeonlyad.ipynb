{
 "cells": [
  {
   "cell_type": "markdown",
   "metadata": {},
   "source": [
    "# Audio Analysis Library for Brain Battle\n",
    "\n",
    "This module is used to analyse the audio from the videos uploaded, and find the time differences between these videos so that they can be synchronized with ease.\n",
    "\n",
    "We use Scipy's correlate() method to compare two audios extracted from the videos, and then find the delay of the second video."
   ]
  },
  {
   "cell_type": "code",
   "execution_count": 3,
   "metadata": {},
   "outputs": [],
   "source": [
    "# Imports\n",
    "import matplotlib.pyplot as plt\n",
    "import numpy as np\n",
    "from moviepy import VideoFileClip, AudioFileClip"
   ]
  },
  {
   "cell_type": "code",
   "execution_count": 10,
   "metadata": {},
   "outputs": [
    {
     "data": {
      "text/plain": [
       "array([[-0.00479126, -0.00460815, -0.00411987, ...,  0.        ,\n",
       "         0.        ,  0.        ],\n",
       "       [-0.00479126, -0.00460815, -0.00411987, ...,  0.        ,\n",
       "         0.        ,  0.        ]])"
      ]
     },
     "execution_count": 10,
     "metadata": {},
     "output_type": "execute_result"
    }
   ],
   "source": [
    "# Load video1\n",
    "video1 = AudioFileClip(r\"C:\\Users\\enesy\\Documents\\Brain Battle 25 applications\\brain_battle_recording_1.wav\")\n",
    "\n",
    "# Extract audio as a numpy array from the video.\n",
    "audio1 = video1.to_soundarray().T\n",
    "\n",
    "audio1"
   ]
  },
  {
   "cell_type": "code",
   "execution_count": 11,
   "metadata": {},
   "outputs": [
    {
     "data": {
      "text/plain": [
       "array([[ 4.91333008e-03,  4.08935547e-03,  9.15527344e-05, ...,\n",
       "         1.46484375e-03,  4.57763672e-04, -1.52587891e-04],\n",
       "       [ 4.91333008e-03,  4.08935547e-03,  9.15527344e-05, ...,\n",
       "         1.46484375e-03,  4.57763672e-04, -1.52587891e-04]])"
      ]
     },
     "execution_count": 11,
     "metadata": {},
     "output_type": "execute_result"
    }
   ],
   "source": [
    "# Load video2\n",
    "video2 = AudioFileClip(r\"C:\\Users\\enesy\\Documents\\Brain Battle 25 applications\\brain_battle_recording_2.wav\")\n",
    "\n",
    "# Extract audio as a numpy array from the video.\n",
    "audio2 = video2.to_soundarray().T\n",
    "\n",
    "audio2"
   ]
  },
  {
   "cell_type": "code",
   "execution_count": 12,
   "metadata": {},
   "outputs": [
    {
     "data": {
      "text/plain": [
       "44100"
      ]
     },
     "execution_count": 12,
     "metadata": {},
     "output_type": "execute_result"
    }
   ],
   "source": [
    "video1.fps"
   ]
  },
  {
   "cell_type": "code",
   "execution_count": 20,
   "metadata": {},
   "outputs": [
    {
     "data": {
      "text/plain": [
       "array([-223, -213, -196, ..., -110,  -39,    9], dtype=int16)"
      ]
     },
     "execution_count": 20,
     "metadata": {},
     "output_type": "execute_result"
    }
   ],
   "source": [
    "from scipy.io import wavfile\n",
    "\n",
    "sample_rate_1, audio1_scipy = wavfile.read(r\"C:\\Users\\enesy\\Documents\\Brain Battle 25 applications\\brain_battle_recording_1.wav\")\n",
    "sample_rate_2, audio2_scipy = wavfile.read(r\"C:\\Users\\enesy\\Documents\\Brain Battle 25 applications\\brain_battle_recording_2.wav\")\n",
    "audio1_scipy"
   ]
  },
  {
   "cell_type": "code",
   "execution_count": 15,
   "metadata": {},
   "outputs": [],
   "source": [
    "# Trying to use SCIPY to correlate two audio files with each other.\n",
    "\n",
    "from scipy import signal\n",
    "\n",
    "audio1_scipy = np.float32(audio1_scipy)\n",
    "audio2_scipy = np.float32(audio2_scipy)\n",
    "\n",
    "# The method paramater does not matter much here.\n",
    "# fft is faster than the default.\n",
    "corr = signal.correlate(audio1_scipy, audio2_scipy, mode=\"same\", method=\"fft\")\n",
    "\n",
    "# correlation_lags method creates an array\n",
    "# that contains the possible delays according to each correlation\n",
    "# Its kind of like dark magic ngl.\n",
    "lags = signal.correlation_lags(len(audio1_scipy), len(audio2_scipy), mode=\"same\")"
   ]
  },
  {
   "cell_type": "code",
   "execution_count": 16,
   "metadata": {},
   "outputs": [
    {
     "data": {
      "image/png": "[encoded data removed]",
      "text/plain": [
       "<Figure size 640x480 with 1 Axes>"
      ]
     },
     "metadata": {},
     "output_type": "display_data"
    }
   ],
   "source": [
    "# Plot the cross-correlation against the delays (delays are in terms of samples per second.)\n",
    "plt.plot(lags, corr)\n",
    "plt.show()"
   ]
  },
  {
   "cell_type": "code",
   "execution_count": 19,
   "metadata": {},
   "outputs": [
    {
     "name": "stdout",
     "output_type": "stream",
     "text": [
      "3339257\n",
      "The amount of seconds the 2nd video is delayed is: 13.157791666666666 sec\n"
     ]
    }
   ],
   "source": [
    "# The maximum correlation happens at the amount the second video is delayed compared to the first.\n",
    "max_corr = np.argmax(corr)\n",
    "print(max_corr)\n",
    "\n",
    "# We divide the lag by the samples per second (44100 for a normal WAV file)\n",
    "# to find the amount \"the second video\" is delayed compared to the first.\n",
    "# Essentially convert the number from samples into seconds.\n",
    "time_delay = lags[max_corr] / sample_rate_1\n",
    "\n",
    "print(f\"The amount of seconds the 2nd video is delayed is: {time_delay} sec\")\n"
   ]
  },
  {
   "cell_type": "markdown",
   "metadata": {},
   "source": [
    "Next\n",
    "\n",
    "https://stackoverflow.com/questions/33383650/using-cross-correlation-to-detect-an-audio-signal-within-another-signal\n",
    "\n",
    "cross correlation to find where audio matches."
   ]
  }
 ],
 "metadata": {
  "kernelspec": {
   "display_name": "Python 3",
   "language": "python",
   "name": "python3"
  },
  "language_info": {
   "codemirror_mode": {
    "name": "ipython",
    "version": 3
   },
   "file_extension": ".py",
   "mimetype": "text/x-python",
   "name": "python",
   "nbconvert_exporter": "python",
   "pygments_lexer": "ipython3",
   "version": "3.11.2"
  }
 },
 "nbformat": 4,
 "nbformat_minor": 2
}

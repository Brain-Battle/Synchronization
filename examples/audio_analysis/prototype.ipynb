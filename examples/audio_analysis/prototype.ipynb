{
 "cells": [
  {
   "cell_type": "markdown",
   "metadata": {},
   "source": [
    "# Audio Analysis Library for Brain Battle\n",
    "\n",
    "This module is used to analyse the audio from the videos uploaded, and find the time differences between these videos so that they can be synchronized with ease.\n",
    "\n",
    "We use Scipy's correlate() method to compare two audios extracted from the videos, and then find the delay of the second video."
   ]
  },
  {
   "cell_type": "code",
   "execution_count": 1,
   "metadata": {},
   "outputs": [],
   "source": [
    "# Imports\n",
    "import matplotlib.pyplot as plt\n",
    "import numpy as np\n",
    "from moviepy import VideoFileClip"
   ]
  },
  {
   "cell_type": "code",
   "execution_count": 2,
   "metadata": {},
   "outputs": [
    {
     "name": "stdout",
     "output_type": "stream",
     "text": [
      "{'video_found': True, 'audio_found': True, 'metadata': {'major_brand': 'avc1', 'minor_version': '0', 'compatible_brands': 'avc1isom', 'creation_time': '2024-10-27T11:43:22.000000Z'}, 'inputs': [{'streams': [{'input_number': 0, 'stream_number': 0, 'stream_type': 'video', 'language': 'eng', 'default': True, 'size': [1920, 1080], 'bitrate': 25836, 'fps': 29.97002997002997, 'codec_name': 'h264', 'profile': '(Main)', 'metadata': {'creation_time': '2024-10-27T11:43:22.000000Z', 'handler_name': 'Ambarella AVC', 'encoder': 'Ambarella AVC encoder'}}, {'input_number': 0, 'stream_number': 1, 'stream_type': 'audio', 'language': 'eng', 'default': True, 'fps': 48000, 'bitrate': 192, 'metadata': {'creation_time': '2024-10-27T11:43:22.000000Z', 'handler_name': 'Ambarella AAC'}}], 'input_number': 0}], 'duration': 325.33, 'bitrate': 26324, 'start': 0.0, 'default_video_input_number': 0, 'default_video_stream_number': 0, 'video_codec_name': 'h264', 'video_profile': '(Main)', 'video_size': [1920, 1080], 'video_bitrate': 25836, 'video_fps': 29.97002997002997, 'default_audio_input_number': 0, 'default_audio_stream_number': 1, 'audio_fps': 48000, 'audio_bitrate': 192, 'video_duration': 325.33, 'video_n_frames': 9750}\n",
      "c:\\Users\\enesy\\AppData\\Local\\Programs\\Python\\Python311\\Lib\\site-packages\\imageio_ffmpeg\\binaries\\ffmpeg-win64-v4.2.2.exe -i C:\\Users\\enesy\\Videos\\eeg_results\\xd\\test2\\ROUND 1 - BOXER POV.mp4 -loglevel error -f image2pipe -vf scale=1920:1080 -sws_flags bicubic -pix_fmt rgb24 -vcodec rawvideo -\n"
     ]
    }
   ],
   "source": [
    "# Load video1\n",
    "video1 = VideoFileClip(r\"C:\\Users\\enesy\\Videos\\eeg_results\\xd\\test2\\ROUND 1 - BOXER POV.mp4\")\n",
    "\n",
    "# Extract audio as a numpy array from the video.\n",
    "audio1 = video1.audio.to_soundarray().T\n",
    "\n",
    "# Reduce two-channel stereo audio into single-channel mono\n",
    "# By adding two channels together and dividing by 2. \n",
    "final_audio1 = (audio1[0] + audio1[1]) / 2.0\n"
   ]
  },
  {
   "cell_type": "code",
   "execution_count": 3,
   "metadata": {},
   "outputs": [
    {
     "name": "stdout",
     "output_type": "stream",
     "text": [
      "{'video_found': True, 'audio_found': True, 'metadata': {'major_brand': 'MSNV', 'minor_version': '22675568', 'compatible_brands': 'MSNVmp42isom', 'creation_time': '2024-10-26T23:14:30.000000Z'}, 'inputs': [{'streams': [{'input_number': 0, 'stream_number': 0, 'stream_type': 'video', 'language': None, 'default': True, 'size': [1440, 1080], 'bitrate': 12000, 'fps': 25.0, 'codec_name': 'h264', 'profile': '(Main)', 'metadata': {'creation_time': '2013-02-23T00:14:30.000000Z', 'handler_name': 'Video Media Handler', 'encoder': 'AVC Coding'}}, {'input_number': 0, 'stream_number': 1, 'stream_type': 'audio', 'language': None, 'default': True, 'fps': 48000, 'bitrate': 127, 'metadata': {'creation_time': '2013-02-23T00:14:30.000000Z', 'handler_name': 'Sound Media Handler'}}], 'input_number': 0}], 'duration': 331.2, 'bitrate': 12130, 'start': 0.0, 'default_video_input_number': 0, 'default_video_stream_number': 0, 'video_codec_name': 'h264', 'video_profile': '(Main)', 'video_size': [1440, 1080], 'video_bitrate': 12000, 'video_fps': 25.0, 'default_audio_input_number': 0, 'default_audio_stream_number': 1, 'audio_fps': 48000, 'audio_bitrate': 127, 'video_duration': 331.2, 'video_n_frames': 8280}\n",
      "c:\\Users\\enesy\\AppData\\Local\\Programs\\Python\\Python311\\Lib\\site-packages\\imageio_ffmpeg\\binaries\\ffmpeg-win64-v4.2.2.exe -i C:\\Users\\enesy\\Videos\\eeg_results\\xd\\test2\\Round 1.MP4 -loglevel error -f image2pipe -vf scale=1440:1080 -sws_flags bicubic -pix_fmt rgb24 -vcodec rawvideo -\n"
     ]
    }
   ],
   "source": [
    "# Load video2\n",
    "video2 = VideoFileClip(r\"C:\\Users\\enesy\\Videos\\eeg_results\\xd\\test2\\Round 1.MP4\")\n",
    "\n",
    "# Extract audio as a numpy array from the video.\n",
    "audio2 = video2.audio.to_soundarray().T\n",
    "\n",
    "# Reduce two-channel stereo audio into single-channel mono\n",
    "# By adding two channels together and dividing by 2.\n",
    "final_audio2 = (audio2[0] + audio2[1]) / 2.0"
   ]
  },
  {
   "cell_type": "code",
   "execution_count": 15,
   "metadata": {},
   "outputs": [
    {
     "data": {
      "text/plain": [
       "44100"
      ]
     },
     "execution_count": 15,
     "metadata": {},
     "output_type": "execute_result"
    }
   ],
   "source": [
    "video1.audio.fps"
   ]
  },
  {
   "cell_type": "code",
   "execution_count": 4,
   "metadata": {},
   "outputs": [
    {
     "data": {
      "text/plain": [
       "array([[0.        , 0.        ],\n",
       "       [0.        , 0.        ],\n",
       "       [0.        , 0.        ],\n",
       "       ...,\n",
       "       [0.00076294, 0.00057983],\n",
       "       [0.00064087, 0.00061035],\n",
       "       [0.00048828, 0.00054932]])"
      ]
     },
     "execution_count": 4,
     "metadata": {},
     "output_type": "execute_result"
    }
   ],
   "source": [
    "audio = video2.audio.to_soundarray()\n",
    "audio"
   ]
  },
  {
   "cell_type": "code",
   "execution_count": 20,
   "metadata": {},
   "outputs": [],
   "source": [
    "# Trying to use SCIPY to correlate two audio files with each other.\n",
    "\n",
    "from scipy import signal\n",
    "\n",
    "# The method paramater does not matter much here.\n",
    "# fft is faster than the default.\n",
    "corr = signal.correlate(final_audio1, final_audio2, mode=\"same\", method=\"fft\")\n",
    "\n",
    "# correlation_lags method creates an array\n",
    "# that contains the possible delays according to each correlation\n",
    "# Its kind of like dark magic ngl.\n",
    "lags = signal.correlation_lags(len(final_audio1), len(final_audio2), mode=\"same\")"
   ]
  },
  {
   "cell_type": "code",
   "execution_count": 21,
   "metadata": {},
   "outputs": [
    {
     "data": {
      "image/png": "[encoded data removed]",
      "text/plain": [
       "<Figure size 640x480 with 1 Axes>"
      ]
     },
     "metadata": {},
     "output_type": "display_data"
    }
   ],
   "source": [
    "# Plot the cross-correlation against the delays (delays are in terms of samples per second.)\n",
    "plt.plot(lags, corr)\n",
    "plt.show()"
   ]
  },
  {
   "cell_type": "code",
   "execution_count": 23,
   "metadata": {},
   "outputs": [
    {
     "name": "stdout",
     "output_type": "stream",
     "text": [
      "71536\n",
      "The amount of seconds the 2nd video is delayed is: -4.247868480725623 sec\n"
     ]
    }
   ],
   "source": [
    "# The maximum correlation happens at the amount the second video is delayed compared to the first.\n",
    "max_corr = np.argmax(corr)\n",
    "print(max_corr)\n",
    "\n",
    "# We divide the lag by the samples per second (44100 for a normal WAV file)\n",
    "# to find the amount \"the second video\" is delayed compared to the first.\n",
    "# Essentially convert the number from samples into seconds.\n",
    "time_delay = lags[max_corr] / 44100\n",
    "\n",
    "print(f\"The amount of seconds the 2nd video is delayed is: {time_delay} sec\")\n"
   ]
  },
  {
   "cell_type": "markdown",
   "metadata": {},
   "source": [
    "Next\n",
    "\n",
    "https://stackoverflow.com/questions/33383650/using-cross-correlation-to-detect-an-audio-signal-within-another-signal\n",
    "\n",
    "cross correlation to find where audio matches."
   ]
  }
 ],
 "metadata": {
  "kernelspec": {
   "display_name": "Python 3",
   "language": "python",
   "name": "python3"
  },
  "language_info": {
   "codemirror_mode": {
    "name": "ipython",
    "version": 3
   },
   "file_extension": ".py",
   "mimetype": "text/x-python",
   "name": "python",
   "nbconvert_exporter": "python",
   "pygments_lexer": "ipython3",
   "version": "3.11.2"
  }
 },
 "nbformat": 4,
 "nbformat_minor": 2
}
